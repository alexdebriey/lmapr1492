{
 "cells": [
  {
   "cell_type": "code",
   "execution_count": 28,
   "metadata": {},
   "outputs": [
    {
     "name": "stdout",
     "output_type": "stream",
     "text": [
      "systeme_cristallin:\n",
      "hexagonal\n",
      "reseau ponctuel\n",
      "6mm\n",
      "type de maille\n",
      "hexagonal\n",
      "vecteur_direct:\n",
      "-1.695468 -2.936635 -0.000000\n",
      "-1.695464 2.936635 0.000000\n",
      "0.000000 0.000000 -5.609546\n",
      "vecteur_reciproque:\n",
      "-1.852937 -1.069792 -0.000000\n",
      "-1.852937 1.069795 -0.000000\n",
      "0.000000 0.000000 -1.120088\n"
     ]
    }
   ],
   "source": [
    "from pymatgen.io.cif import CifParser\n",
    "parser = CifParser(\"mp984718.cif\")\n",
    "structure = parser.get_structures()[0]\n",
    "from pymatgen.symmetry.analyzer import SpacegroupAnalyzer\n",
    "new_s=SpacegroupAnalyzer(structure).get_primitive_standard_structure()\n",
    "system = SpacegroupAnalyzer(new_s).get_crystal_system()\n",
    "print(\"systeme_cristallin:\")\n",
    "print(system)\n",
    "\n",
    "\n",
    "pointgroup = SpacegroupAnalyzer(structure).get_point_group_symbol()\n",
    "print(\"reseau ponctuel\")\n",
    "print(pointgroup)\n",
    "\n",
    "latticetype = SpacegroupAnalyzer(structure).get_lattice_type()\n",
    "print(\"type de maille\")\n",
    "print(latticetype)\n",
    "\n",
    "\n",
    "from pymatgen.core.lattice import Lattice\n",
    "vecteurdirect= structure.lattice\n",
    "print(\"vecteur_direct:\")\n",
    "print(vecteurdirect)\n",
    "vecteurreciproque = vecteurdirect.reciprocal_lattice\n",
    "print(\"vecteur_reciproque:\")\n",
    "print(vecteurreciproque)\n",
    "\n",
    "\n",
    "\n"
   ]
  },
  {
   "cell_type": "code",
   "execution_count": null,
   "metadata": {},
   "outputs": [],
   "source": []
  }
 ],
 "metadata": {
  "kernelspec": {
   "display_name": "Python 3",
   "language": "python",
   "name": "python3"
  },
  "language_info": {
   "codemirror_mode": {
    "name": "ipython",
    "version": 3
   },
   "file_extension": ".py",
   "mimetype": "text/x-python",
   "name": "python",
   "nbconvert_exporter": "python",
   "pygments_lexer": "ipython3",
   "version": "3.6.8"
  }
 },
 "nbformat": 4,
 "nbformat_minor": 2
}
